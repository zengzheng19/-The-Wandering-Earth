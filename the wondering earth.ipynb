{
 "cells": [
  {
   "cell_type": "markdown",
   "metadata": {},
   "source": [
    "# 问题分析"
   ]
  },
  {
   "cell_type": "markdown",
   "metadata": {},
   "source": [
    "  **流浪地球在截至目前票房已达到46亿，成为中国电影史上票房第二高的电影。电影自春节上映开始，由流浪地球延申关于国产科幻电影等相关话题的热度一直很高。而2月20日左右社交媒体上开始有流浪地球在豆瓣被恶意一分的新闻出现，将流浪地球的讨论热度推向最高点**。"
   ]
  },
  {
   "cell_type": "markdown",
   "metadata": {},
   "source": [
    "### 本文尝试对流浪地球的在豆瓣的评分和评论等数据进行分析，以期得回答以下问题:\n",
    "- 1.流浪地球在豆瓣的真实评分状况如何。\n",
    "- 2.流浪地球的争议程度如何，不同分段的用户对于流浪地球的真实感受有何不同。"
   ]
  },
  {
   "cell_type": "markdown",
   "metadata": {},
   "source": [
    "#### 引入相关包和绘图参数设置"
   ]
  },
  {
   "cell_type": "code",
   "execution_count": 1,
   "metadata": {},
   "outputs": [],
   "source": [
    "import pandas as pd\n",
    "import numpy as np\n",
    "import matplotlib.pyplot as plt\n",
    "import seaborn as sns\n",
    "\n",
    "from scipy import stats\n",
    "\n",
    "large = 22; med = 16; small = 12\n",
    "# plt.rcParams['font.sans-serif'] = ['SimHei']  # 解决中文显示问题-设置字体为黑体\n",
    "# plt.rcParams['axes.unicode_minus'] = False  # 解决保存图像是负号'-'显示为方块的问题\n",
    "params = {'axes.titlesize': large,\n",
    "          'legend.fontsize': med,\n",
    "          'figure.figsize': (16, 10),\n",
    "          'axes.labelsize': med,\n",
    "          'axes.titlesize': med,\n",
    "          'xtick.labelsize': med,\n",
    "          'ytick.labelsize': med,\n",
    "          'figure.titlesize': large,\n",
    "         'font.sans-serif':'SimHei',\n",
    "         'axes.unicode_minus':False}\n",
    "plt.rcParams.update(params)\n",
    "\n",
    "plt.style.use('seaborn-whitegrid')\n",
    "sns.set_style('white')"
   ]
  },
  {
   "cell_type": "markdown",
   "metadata": {},
   "source": [
    "# 数据清洗"
   ]
  },
  {
   "cell_type": "markdown",
   "metadata": {},
   "source": [
    "### 读取爬虫得到的原始数据并进行查看"
   ]
  },
  {
   "cell_type": "code",
   "execution_count": 2,
   "metadata": {
    "scrolled": false
   },
   "outputs": [
    {
     "data": {
      "text/html": [
       "<div>\n",
       "<style scoped>\n",
       "    .dataframe tbody tr th:only-of-type {\n",
       "        vertical-align: middle;\n",
       "    }\n",
       "\n",
       "    .dataframe tbody tr th {\n",
       "        vertical-align: top;\n",
       "    }\n",
       "\n",
       "    .dataframe thead th {\n",
       "        text-align: right;\n",
       "    }\n",
       "</style>\n",
       "<table border=\"1\" class=\"dataframe\">\n",
       "  <thead>\n",
       "    <tr style=\"text-align: right;\">\n",
       "      <th></th>\n",
       "      <th>ReleaseDate</th>\n",
       "      <th>ScreenWriter</th>\n",
       "      <th>comments</th>\n",
       "      <th>descriptions</th>\n",
       "      <th>director</th>\n",
       "      <th>rating_of_5stars</th>\n",
       "      <th>score</th>\n",
       "      <th>title</th>\n",
       "      <th>type</th>\n",
       "      <th>url</th>\n",
       "      <th>votes</th>\n",
       "      <th>year</th>\n",
       "    </tr>\n",
       "  </thead>\n",
       "  <tbody>\n",
       "    <tr>\n",
       "      <th>0</th>\n",
       "      <td>[1984-05-23]</td>\n",
       "      <td>[雅克·杜瓦隆]</td>\n",
       "      <td>[全部 29 条]</td>\n",
       "      <td>[\\n        导演: 雅克·杜瓦隆\\n        编剧: 雅克·杜瓦隆\\n   ...</td>\n",
       "      <td>[雅克·杜瓦隆]</td>\n",
       "      <td>[8.5%, 16.9%, 44.1%, 25.4%, 5.1%]</td>\n",
       "      <td>[6.0]</td>\n",
       "      <td>[海盗 La pirate]</td>\n",
       "      <td>[剧情]</td>\n",
       "      <td>[https://movie.douban.com/subject/4238659/]</td>\n",
       "      <td>[75]</td>\n",
       "      <td>[(1984)]</td>\n",
       "    </tr>\n",
       "  </tbody>\n",
       "</table>\n",
       "</div>"
      ],
      "text/plain": [
       "    ReleaseDate ScreenWriter   comments  \\\n",
       "0  [1984-05-23]     [雅克·杜瓦隆]  [全部 29 条]   \n",
       "\n",
       "                                        descriptions  director  \\\n",
       "0  [\\n        导演: 雅克·杜瓦隆\\n        编剧: 雅克·杜瓦隆\\n   ...  [雅克·杜瓦隆]   \n",
       "\n",
       "                    rating_of_5stars  score           title  type  \\\n",
       "0  [8.5%, 16.9%, 44.1%, 25.4%, 5.1%]  [6.0]  [海盗 La pirate]  [剧情]   \n",
       "\n",
       "                                           url votes      year  \n",
       "0  [https://movie.douban.com/subject/4238659/]  [75]  [(1984)]  "
      ]
     },
     "execution_count": 2,
     "metadata": {},
     "output_type": "execute_result"
    }
   ],
   "source": [
    "df = pd.read_json('DouBanMovies_Raw.json')\n",
    "df=df.reindex().sort_index()\n",
    "df[:1]"
   ]
  },
  {
   "cell_type": "markdown",
   "metadata": {},
   "source": [
    "### 数据格式及字段待处理点:\n",
    "\n",
    "#### 1.所有元素的格式都为str(s) of list,需要转换成相应的type。2.descriptions内包含部分需要提取的字段:语言，片长，上映日期等。3.'type'等分类型数据需要根据需要进行one-hot转换。"
   ]
  },
  {
   "cell_type": "markdown",
   "metadata": {},
   "source": [
    "### 对原始数据进行转换清洗"
   ]
  },
  {
   "cell_type": "code",
   "execution_count": 3,
   "metadata": {},
   "outputs": [],
   "source": [
    "# 定义从describtions和date两列中提取所需字段的两个函数\n",
    "\n",
    "import re\n",
    "def extract_date(full_str):\n",
    "    '''\n",
    "    从year字段中提取数字部分\n",
    "    '''\n",
    "    pattern=re.compile('[\\d+\\-+]+')\n",
    "    date_list=list(re.findall(pattern,full_str))\n",
    "    date = date_list[0]\n",
    "    return date\n",
    "def extract(element_str,element_name):\n",
    "    '''\n",
    "    从element_str中提取element_name的内容\n",
    "    '''\n",
    "    element_str=str(element_str)\n",
    "    splited_str=element_str.replace(' ','').split('\\n')\n",
    "    #用于存放元素名称-元素内容的字典\n",
    "    element_dict={}\n",
    "    for pair in splited_str:\n",
    "        splited_list=pair.split(':',maxsplit=1)\n",
    "        key=splited_list[0].replace(' ','')\n",
    "        if len(splited_list)==2:\n",
    "            value=splited_list[1].replace(' ','')\n",
    "        else:\n",
    "            value=None\n",
    "        element_dict[key]=value\n",
    "    if element_name in element_dict:\n",
    "        return element_dict[element_name]\n",
    "    else:\n",
    "        return None"
   ]
  },
  {
   "cell_type": "markdown",
   "metadata": {},
   "source": [
    "#### 将各列的数据从List转换为对应的数据格式\n",
    "#### 将votes,comments,score的数据类型转换成int:暂时未处理NoneType数据，因此无法使用astype转换每列的数据类型"
   ]
  },
  {
   "cell_type": "code",
   "execution_count": 4,
   "metadata": {},
   "outputs": [],
   "source": [
    "df=df.applymap(lambda i:','.join(j for j in i) if type(i)==list else i)\n",
    "\n",
    "df['minutes']=df['descriptions'].apply(extract,args=('片长',)).str.extract('(\\d+)')[0]\n",
    "df['minutes']=df['minutes'].apply(lambda i:int(i) if type(i)==str else i)\n",
    "\n",
    "df['comments']=df['comments'].str.extract('(\\d+)')[0]\n",
    "df['comments']=df['comments'].apply(lambda i:int(i) if type(i)==str else i)\n",
    "\n",
    "df['votes']=df['votes'].apply(lambda i:int(i) if type(i)==str else i)\n",
    "df['score']=df['score'].apply(lambda i:float(i) if type(i)==str else i)\n",
    "df['year']=df['year'].str.extract('(\\d+)')[0]\n",
    "\n",
    "\n",
    "df['language']=df['descriptions'].apply(extract,args=('语言',))\n",
    "df['actors']=df['descriptions'].apply(extract,args=('主演',))\n",
    "df['country']=df['descriptions'].apply(extract,args=('制片国家/地区',))\n",
    "\n",
    "#时间为空的设置为未来时间2020-01-01，标记为异常值\n",
    "df['ReleaseDate']=df['ReleaseDate'].fillna('2020-01-01')\n",
    "df['ReleaseDate']=df['ReleaseDate'].apply(extract_date)\n",
    "df['FullDate']=df['ReleaseDate'].apply(lambda i:1 if len(i)>4 else 0)\n",
    "df['ReleaseDate']=pd.to_datetime(df['ReleaseDate'])"
   ]
  },
  {
   "cell_type": "markdown",
   "metadata": {},
   "source": [
    "### 对country,language,type三列分类型数据整理：合并同义字段"
   ]
  },
  {
   "cell_type": "markdown",
   "metadata": {},
   "source": [
    "#### 对country整理"
   ]
  },
  {
   "cell_type": "code",
   "execution_count": 5,
   "metadata": {
    "scrolled": true
   },
   "outputs": [
    {
     "data": {
      "text/plain": [
       "Index(['美国', '日本', '中国大陆', '法国', '香港', '英国', '德国', '韩国', '意大利', '加拿大', '台湾',\n",
       "       '西班牙', '印度', '澳大利亚', '比利时', '泰国', '瑞典', '俄罗斯', '荷兰', '西德', '丹麦', '苏联',\n",
       "       '波兰', '瑞士', '墨西哥', '爱尔兰', '阿根廷', '巴西', '奥地利', 'USA', '挪威', '捷克', '匈牙利',\n",
       "       '中国', '芬兰', '罗马尼亚', '以色列', '新加坡', '伊朗', '葡萄牙', 'None', '南非', '土耳其',\n",
       "       '捷克斯洛伐克', '希腊', '新西兰', 'UK', '卢森堡', '南斯拉夫', '菲律宾', '马来西亚', '冰岛',\n",
       "       'Czechoslovakia', '印度India', '智利', '保加利亚', '越南', '加拿大Canada', 'Canada',\n",
       "       '乌克兰', '塞尔维亚', '克罗地亚', '斯洛伐克', '爱沙尼亚', '哥伦比亚', 'Luxembourg', '立陶宛',\n",
       "       '卡塔尔', '斯洛文尼亚', '摩洛哥', '古巴', 'Bulgaria'],\n",
       "      dtype='object', name=0)"
      ]
     },
     "execution_count": 5,
     "metadata": {},
     "output_type": "execute_result"
    }
   ],
   "source": [
    "countries=[]\n",
    "for i in df.country:\n",
    "    i=str(i)\n",
    "    countries.extend(i.split('/'))\n",
    "countries=pd.DataFrame(countries)\n",
    "dd=countries.groupby(0).agg('size')\n",
    "dd[dd>20].sort_values(ascending=False).index"
   ]
  },
  {
   "cell_type": "code",
   "execution_count": 6,
   "metadata": {},
   "outputs": [
    {
     "data": {
      "text/plain": [
       "Index(['美国', '日本', '中国', '法国', '香港', '英国', '德国', '韩国', '意大利', '加拿大', '台湾',\n",
       "       '西班牙', '印度', '澳大利亚', '比利时', '泰国', '瑞典', '俄罗斯', '荷兰', '西德', '丹麦', '苏联',\n",
       "       '波兰', '瑞士', '墨西哥', '爱尔兰', '阿根廷', '巴西', '奥地利', '挪威', '捷克', '匈牙利',\n",
       "       '捷克斯洛伐克', '芬兰', '罗马尼亚', '新加坡', '以色列', '伊朗', '葡萄牙', 'None', '卢森堡', '南非',\n",
       "       '土耳其', '希腊', '新西兰', '南斯拉夫', '菲律宾', '保加利亚', '马来西亚', '冰岛', '智利', '越南',\n",
       "       '乌克兰', '塞尔维亚', '克罗地亚', '斯洛伐克', '爱沙尼亚', '哥伦比亚', '立陶宛', '卡塔尔', '斯洛文尼亚',\n",
       "       '摩洛哥', '古巴'],\n",
       "      dtype='object', name=0)"
      ]
     },
     "execution_count": 6,
     "metadata": {},
     "output_type": "execute_result"
    }
   ],
   "source": [
    "older_values=['印度India', '中国大陆', 'USA', 'UK', 'Czechoslovakia', 'Luxembourg', '加拿大Canada', 'Canada','Bulgaria']\n",
    "values=['印度', '中国', '美国', '英国', '捷克斯洛伐克', '卢森堡', '加拿大', '加拿大','保加利亚']\n",
    "for old_value,value in zip(older_values,values):\n",
    "    df['country']=df['country'].str.replace(old_value,value)\n",
    "countries=[]\n",
    "for i in df.country:\n",
    "    i=str(i)\n",
    "    countries.extend(i.split('/'))\n",
    "countries=pd.DataFrame(countries)\n",
    "dd=countries.groupby(0).agg('size')\n",
    "dd[dd>20].sort_values(ascending=False).index"
   ]
  },
  {
   "cell_type": "markdown",
   "metadata": {},
   "source": [
    "#### 对language整理"
   ]
  },
  {
   "cell_type": "code",
   "execution_count": 7,
   "metadata": {
    "scrolled": false
   },
   "outputs": [
    {
     "data": {
      "text/plain": [
       "Index(['英语', '汉语普通话', '日语', '法语', '粤语', '德语', '韩语', '西班牙语', '意大利语', '俄语',\n",
       "       '普通话', '国语', 'None', '泰语', '葡萄牙语', '波兰语', '阿拉伯语', '瑞典语', 'English',\n",
       "       '印地语', '北印度语', '丹麦语', '捷克语', '荷兰语', '希伯来语', '无对白', '土耳其语', '闽南语', '波斯语',\n",
       "       '拉丁语', '匈牙利语', '希腊语', '挪威语', '罗马尼亚语', '芬兰语', '越南语', '菲律宾语', '斯洛伐克语',\n",
       "       '乌尔都语', '塞尔维亚语', '上海话', '加泰罗尼亚语', '格鲁吉亚语', '塔加路语', 'Serbian', '中文',\n",
       "       '印地语Hindi', '乌克兰语', '藏语', '美国手语', '朝鲜语', '塞尔维亚-克罗地亚语', '泰米尔语',\n",
       "       'english', '冰岛语', '保加利亚语', '四川话', '孟加拉语', '意第绪语', '马来语', '瑞士德语', '泰卢固语',\n",
       "       '依地语', '爱沙尼亚语', '阿尔巴尼亚语', '印尼语'],\n",
       "      dtype='object', name=0)"
      ]
     },
     "execution_count": 7,
     "metadata": {},
     "output_type": "execute_result"
    }
   ],
   "source": [
    "languages=[]\n",
    "for i in df.language:\n",
    "    i=str(i)\n",
    "    languages.extend(i.split('/'))\n",
    "languages=pd.DataFrame(languages)\n",
    "dd=languages.groupby(0).agg('size')\n",
    "dd[dd>20].sort_values(ascending=False).index"
   ]
  },
  {
   "cell_type": "code",
   "execution_count": 8,
   "metadata": {},
   "outputs": [
    {
     "data": {
      "text/plain": [
       "Index(['英语', '汉语普通话', '日语', '法语', '粤语', '德语', '韩语', '西班牙语', '意大利语', '俄语',\n",
       "       '普通话', 'None', '泰语', '葡萄牙语', '波兰语', '瑞典语', '阿拉伯语', '印地语', '北印度语', '丹麦语',\n",
       "       '捷克语', '荷兰语', '希伯来语', '无对白', '土耳其语', '闽南语', '波斯语', '拉丁语', '匈牙利语', '希腊语',\n",
       "       '挪威语', '罗马尼亚语', '芬兰语', '塞尔维亚语', '越南语', '菲律宾语', '斯洛伐克语', '乌尔都语', '上海话',\n",
       "       '印度语', '加泰罗尼亚语', '格鲁吉亚语', '塔加路语', '藏语', '乌克兰语', '美国手语', '朝鲜语',\n",
       "       '塞尔维亚-克罗地亚语', '泰米尔语', '冰岛语', '保加利亚语', '四川话', '孟加拉语', '意第绪语', '马来语',\n",
       "       '瑞士德语', '泰卢固语', '依地语', '爱沙尼亚语', '阿尔巴尼亚语', '印尼语'],\n",
       "      dtype='object', name=0)"
      ]
     },
     "execution_count": 8,
     "metadata": {},
     "output_type": "execute_result"
    }
   ],
   "source": [
    "old_values=['Serbian','中文','国语','印地语Hindi','English','english']\n",
    "new_values=['塞尔维亚语','汉语普通话','汉语普通话','印度语','英语','英语']\n",
    "\n",
    "for old_value,new_value in zip(old_values,new_values):\n",
    "    df['language']=df['language'].str.replace(old_value,new_value)\n",
    "    \n",
    "languages=[]\n",
    "for i in df.language:\n",
    "    i=str(i)\n",
    "    languages.extend(i.split('/'))\n",
    "languages=pd.DataFrame(languages)\n",
    "dd=languages.groupby(0).agg('size')\n",
    "dd[dd>20].sort_values(ascending=False).index"
   ]
  },
  {
   "cell_type": "markdown",
   "metadata": {},
   "source": [
    "##### 对generes进行转换"
   ]
  },
  {
   "cell_type": "code",
   "execution_count": 9,
   "metadata": {},
   "outputs": [
    {
     "data": {
      "text/plain": [
       "array(['剧情', '恐怖', '古装', '喜剧', '动作', '科幻', '战争', '惊悚', '犯罪', 'None', '家庭',\n",
       "       '冒险', '爱情', '动画', '音乐', '奇幻', '历史', '黑色电影', '歌舞', '传记', '悬疑', '戏曲',\n",
       "       '儿童', '武侠', '西部', '运动', '鬼怪', '荒诞', '舞台艺术', '同性', '情色', 'Adult',\n",
       "       '灾难', '悬念', '惊栗', '脱口秀', '真人秀', 'Comedy', 'Talk-Show',\n",
       "       'Reality-TV', '记录', '愛情 Romance', '音樂 Music', '動畫 Animation', '短片',\n",
       "       '動作 Action', '紀錄片 Documentary', '驚悚 Thriller'], dtype=object)"
      ]
     },
     "execution_count": 9,
     "metadata": {},
     "output_type": "execute_result"
    }
   ],
   "source": [
    "genres=[]\n",
    "for i in df.type:\n",
    "    i=str(i)\n",
    "    genres.extend(i.split(','))\n",
    "genres=pd.unique(genres)\n",
    "genres"
   ]
  },
  {
   "cell_type": "code",
   "execution_count": 10,
   "metadata": {},
   "outputs": [
    {
     "data": {
      "text/plain": [
       "array(['剧情', '恐怖', '古装', '喜剧', '动作', '科幻', '战争', '惊悚', '犯罪', 'None', '家庭',\n",
       "       '冒险', '爱情', '动画', '音乐', '奇幻', '历史', '黑色电影', '歌舞', '传记', '悬疑', '戏曲',\n",
       "       '儿童', '武侠', '西部', '运动', '鬼怪', '荒诞', '舞台艺术', '同性', '情色', 'Adult',\n",
       "       '灾难', '脱口秀', '真人秀', '记录', '短片'], dtype=object)"
      ]
     },
     "execution_count": 10,
     "metadata": {},
     "output_type": "execute_result"
    }
   ],
   "source": [
    "old_values=['Reality-TV','Talk-Show','惊栗','愛情 Romance','音樂 Music',\n",
    "            '悬念','動畫 Animation','紀錄片 Documentary','驚悚 Thriller','Comedy','動作 Action']\n",
    "new_values=['真人秀','脱口秀','惊悚','爱情','音乐',\n",
    "           '悬疑','动画','记录','惊悚','喜剧','动作']\n",
    "for old_value,new_value in zip(old_values,new_values):\n",
    "    df['type']=df['type'].str.replace(old_value,new_value)\n",
    "    \n",
    "genres=[]\n",
    "for i in df.type:\n",
    "    i=str(i)\n",
    "    genres.extend(i.split(','))\n",
    "genres=pd.unique(genres)\n",
    "genres"
   ]
  },
  {
   "cell_type": "markdown",
   "metadata": {},
   "source": [
    "### 将rating_of_5stars分成对应各分段评分的五列"
   ]
  },
  {
   "cell_type": "code",
   "execution_count": 11,
   "metadata": {},
   "outputs": [],
   "source": [
    "df=df.dropna()\n",
    "for i in range(5):\n",
    "    column_name = 'prop_of_{}_star'.format(5-i)\n",
    "    df[column_name]=df['rating_of_5stars'].apply(lambda ele:float(ele.split(',')[i].strip('%')))"
   ]
  },
  {
   "cell_type": "markdown",
   "metadata": {},
   "source": [
    "### 舍弃已完成数据提取的describtion和rating列"
   ]
  },
  {
   "cell_type": "code",
   "execution_count": 12,
   "metadata": {},
   "outputs": [],
   "source": [
    "df.drop(['descriptions','rating_of_5stars'],inplace=True,axis=1)"
   ]
  },
  {
   "cell_type": "markdown",
   "metadata": {},
   "source": [
    "### 查看整理后的数据类型和数据内容"
   ]
  },
  {
   "cell_type": "code",
   "execution_count": 13,
   "metadata": {
    "scrolled": false
   },
   "outputs": [
    {
     "name": "stdout",
     "output_type": "stream",
     "text": [
      "当前数据类型:\n",
      " ReleaseDate       datetime64[ns]\n",
      "ScreenWriter              object\n",
      "comments                 float64\n",
      "director                  object\n",
      "score                    float64\n",
      "title                     object\n",
      "type                      object\n",
      "url                       object\n",
      "votes                    float64\n",
      "year                      object\n",
      "minutes                  float64\n",
      "language                  object\n",
      "actors                    object\n",
      "country                   object\n",
      "FullDate                   int64\n",
      "prop_of_5_star           float64\n",
      "prop_of_4_star           float64\n",
      "prop_of_3_star           float64\n",
      "prop_of_2_star           float64\n",
      "prop_of_1_star           float64\n",
      "dtype: object\n"
     ]
    },
    {
     "data": {
      "text/html": [
       "<div>\n",
       "<style scoped>\n",
       "    .dataframe tbody tr th:only-of-type {\n",
       "        vertical-align: middle;\n",
       "    }\n",
       "\n",
       "    .dataframe tbody tr th {\n",
       "        vertical-align: top;\n",
       "    }\n",
       "\n",
       "    .dataframe thead th {\n",
       "        text-align: right;\n",
       "    }\n",
       "</style>\n",
       "<table border=\"1\" class=\"dataframe\">\n",
       "  <thead>\n",
       "    <tr style=\"text-align: right;\">\n",
       "      <th></th>\n",
       "      <th>ReleaseDate</th>\n",
       "      <th>ScreenWriter</th>\n",
       "      <th>comments</th>\n",
       "      <th>director</th>\n",
       "      <th>score</th>\n",
       "      <th>title</th>\n",
       "      <th>type</th>\n",
       "      <th>url</th>\n",
       "      <th>votes</th>\n",
       "      <th>year</th>\n",
       "      <th>minutes</th>\n",
       "      <th>language</th>\n",
       "      <th>actors</th>\n",
       "      <th>country</th>\n",
       "      <th>FullDate</th>\n",
       "      <th>prop_of_5_star</th>\n",
       "      <th>prop_of_4_star</th>\n",
       "      <th>prop_of_3_star</th>\n",
       "      <th>prop_of_2_star</th>\n",
       "      <th>prop_of_1_star</th>\n",
       "    </tr>\n",
       "  </thead>\n",
       "  <tbody>\n",
       "    <tr>\n",
       "      <th>0</th>\n",
       "      <td>1984-05-23</td>\n",
       "      <td>雅克·杜瓦隆</td>\n",
       "      <td>29.0</td>\n",
       "      <td>雅克·杜瓦隆</td>\n",
       "      <td>6.0</td>\n",
       "      <td>海盗 La pirate</td>\n",
       "      <td>剧情</td>\n",
       "      <td>https://movie.douban.com/subject/4238659/</td>\n",
       "      <td>75.0</td>\n",
       "      <td>1984</td>\n",
       "      <td>88.0</td>\n",
       "      <td>法语/英语</td>\n",
       "      <td>简·伯金/玛鲁施卡·迪特马斯/PhilippeLéotard</td>\n",
       "      <td>法国</td>\n",
       "      <td>1</td>\n",
       "      <td>8.5</td>\n",
       "      <td>16.9</td>\n",
       "      <td>44.1</td>\n",
       "      <td>25.4</td>\n",
       "      <td>5.1</td>\n",
       "    </tr>\n",
       "    <tr>\n",
       "      <th>1</th>\n",
       "      <td>1988-01-01</td>\n",
       "      <td>林义雄,杜文波</td>\n",
       "      <td>9.0</td>\n",
       "      <td>杜文波</td>\n",
       "      <td>3.3</td>\n",
       "      <td>猛鬼医院 猛鬼醫院</td>\n",
       "      <td>恐怖</td>\n",
       "      <td>https://movie.douban.com/subject/3339326/</td>\n",
       "      <td>54.0</td>\n",
       "      <td>1988</td>\n",
       "      <td>79.0</td>\n",
       "      <td>粤语</td>\n",
       "      <td>谷峰/关海山/梁小龙/何柏光/车保罗/曾楚霖/江岛/杜少明/鱼头云</td>\n",
       "      <td>香港</td>\n",
       "      <td>0</td>\n",
       "      <td>0.0</td>\n",
       "      <td>3.2</td>\n",
       "      <td>16.1</td>\n",
       "      <td>22.6</td>\n",
       "      <td>58.1</td>\n",
       "    </tr>\n",
       "    <tr>\n",
       "      <th>3</th>\n",
       "      <td>1974-04-22</td>\n",
       "      <td>约瑟夫·W·萨诺</td>\n",
       "      <td>22.0</td>\n",
       "      <td>约瑟夫·W·萨诺</td>\n",
       "      <td>2.9</td>\n",
       "      <td>深喉2 Deep Throat Part II</td>\n",
       "      <td>喜剧</td>\n",
       "      <td>https://movie.douban.com/subject/3162430/</td>\n",
       "      <td>68.0</td>\n",
       "      <td>1974</td>\n",
       "      <td>88.0</td>\n",
       "      <td>英语</td>\n",
       "      <td>LindaLovelace/HarryReems/LeviRichards</td>\n",
       "      <td>美国</td>\n",
       "      <td>1</td>\n",
       "      <td>0.0</td>\n",
       "      <td>2.4</td>\n",
       "      <td>9.8</td>\n",
       "      <td>19.5</td>\n",
       "      <td>68.3</td>\n",
       "    </tr>\n",
       "  </tbody>\n",
       "</table>\n",
       "</div>"
      ],
      "text/plain": [
       "  ReleaseDate ScreenWriter  comments  director  score  \\\n",
       "0  1984-05-23       雅克·杜瓦隆      29.0    雅克·杜瓦隆    6.0   \n",
       "1  1988-01-01      林义雄,杜文波       9.0       杜文波    3.3   \n",
       "3  1974-04-22     约瑟夫·W·萨诺      22.0  约瑟夫·W·萨诺    2.9   \n",
       "\n",
       "                     title type                                        url  \\\n",
       "0             海盗 La pirate   剧情  https://movie.douban.com/subject/4238659/   \n",
       "1                猛鬼医院 猛鬼醫院   恐怖  https://movie.douban.com/subject/3339326/   \n",
       "3  深喉2 Deep Throat Part II   喜剧  https://movie.douban.com/subject/3162430/   \n",
       "\n",
       "   votes  year  minutes language                                 actors  \\\n",
       "0   75.0  1984     88.0    法语/英语         简·伯金/玛鲁施卡·迪特马斯/PhilippeLéotard   \n",
       "1   54.0  1988     79.0       粤语      谷峰/关海山/梁小龙/何柏光/车保罗/曾楚霖/江岛/杜少明/鱼头云   \n",
       "3   68.0  1974     88.0       英语  LindaLovelace/HarryReems/LeviRichards   \n",
       "\n",
       "  country  FullDate  prop_of_5_star  prop_of_4_star  prop_of_3_star  \\\n",
       "0      法国         1             8.5            16.9            44.1   \n",
       "1      香港         0             0.0             3.2            16.1   \n",
       "3      美国         1             0.0             2.4             9.8   \n",
       "\n",
       "   prop_of_2_star  prop_of_1_star  \n",
       "0            25.4             5.1  \n",
       "1            22.6            58.1  \n",
       "3            19.5            68.3  "
      ]
     },
     "execution_count": 13,
     "metadata": {},
     "output_type": "execute_result"
    }
   ],
   "source": [
    "print('当前数据类型:\\n',df.dtypes)\n",
    "df[:3]"
   ]
  },
  {
   "cell_type": "markdown",
   "metadata": {},
   "source": [
    "# 数据分析"
   ]
  },
  {
   "cell_type": "markdown",
   "metadata": {},
   "source": [
    "## 1.流浪地球在豆瓣的真实评分状况如何，是否被恶意评分。"
   ]
  },
  {
   "cell_type": "markdown",
   "metadata": {},
   "source": [
    "### 方法:尝试查看同段分数的评分分布进行分析"
   ]
  },
  {
   "cell_type": "markdown",
   "metadata": {},
   "source": [
    "#### 数据准备"
   ]
  },
  {
   "cell_type": "markdown",
   "metadata": {},
   "source": [
    "#### 1）将数据转换成长数据以便seaborn和matplotlib使用"
   ]
  },
  {
   "cell_type": "code",
   "execution_count": 14,
   "metadata": {},
   "outputs": [
    {
     "data": {
      "text/html": [
       "<div>\n",
       "<style scoped>\n",
       "    .dataframe tbody tr th:only-of-type {\n",
       "        vertical-align: middle;\n",
       "    }\n",
       "\n",
       "    .dataframe tbody tr th {\n",
       "        vertical-align: top;\n",
       "    }\n",
       "\n",
       "    .dataframe thead th {\n",
       "        text-align: right;\n",
       "    }\n",
       "</style>\n",
       "<table border=\"1\" class=\"dataframe\">\n",
       "  <thead>\n",
       "    <tr style=\"text-align: right;\">\n",
       "      <th></th>\n",
       "      <th>score_cut</th>\n",
       "      <th>title</th>\n",
       "      <th>score</th>\n",
       "      <th>values</th>\n",
       "    </tr>\n",
       "  </thead>\n",
       "  <tbody>\n",
       "    <tr>\n",
       "      <th>0</th>\n",
       "      <td>(4,6]</td>\n",
       "      <td>海盗 La pirate</td>\n",
       "      <td>prop_of_1_star</td>\n",
       "      <td>5.1</td>\n",
       "    </tr>\n",
       "    <tr>\n",
       "      <th>1</th>\n",
       "      <td>(4,6]</td>\n",
       "      <td>海盗 La pirate</td>\n",
       "      <td>prop_of_2_star</td>\n",
       "      <td>25.4</td>\n",
       "    </tr>\n",
       "    <tr>\n",
       "      <th>2</th>\n",
       "      <td>(4,6]</td>\n",
       "      <td>海盗 La pirate</td>\n",
       "      <td>prop_of_3_star</td>\n",
       "      <td>44.1</td>\n",
       "    </tr>\n",
       "    <tr>\n",
       "      <th>3</th>\n",
       "      <td>(4,6]</td>\n",
       "      <td>海盗 La pirate</td>\n",
       "      <td>prop_of_4_star</td>\n",
       "      <td>16.9</td>\n",
       "    </tr>\n",
       "    <tr>\n",
       "      <th>4</th>\n",
       "      <td>(4,6]</td>\n",
       "      <td>海盗 La pirate</td>\n",
       "      <td>prop_of_5_star</td>\n",
       "      <td>8.5</td>\n",
       "    </tr>\n",
       "  </tbody>\n",
       "</table>\n",
       "</div>"
      ],
      "text/plain": [
       "  score_cut         title           score  values\n",
       "0     (4,6]  海盗 La pirate  prop_of_1_star     5.1\n",
       "1     (4,6]  海盗 La pirate  prop_of_2_star    25.4\n",
       "2     (4,6]  海盗 La pirate  prop_of_3_star    44.1\n",
       "3     (4,6]  海盗 La pirate  prop_of_4_star    16.9\n",
       "4     (4,6]  海盗 La pirate  prop_of_5_star     8.5"
      ]
     },
     "execution_count": 14,
     "metadata": {},
     "output_type": "execute_result"
    }
   ],
   "source": [
    "df['score_cut']=pd.cut(df['score'],[2,4,6,7.7,8.1,10],labels=['(2,4]','(4,6]','(6,7.7]','(7.7,8.1]','(8.1,10]'])\n",
    "#df_cut=df.groupby('score_cut').agg('sum')[['prop_of_5_star','prop_of_4_star','prop_of_3_star','prop_of_2_star','prop_of_1_star',]]\n",
    "df_stack=df[['prop_of_1_star','prop_of_2_star','prop_of_3_star','prop_of_4_star','prop_of_5_star','score_cut','title']].set_index(['score_cut','title'])\n",
    "df_stack=df_stack.stack().reset_index()\n",
    "df_stack.rename(columns={'level_2':'score',0:'values'},inplace=True)\n",
    "df_stack.head()"
   ]
  },
  {
   "cell_type": "markdown",
   "metadata": {},
   "source": [
    "#### 2）为流浪地球单独创建一个category数值，以便绘图。"
   ]
  },
  {
   "cell_type": "code",
   "execution_count": 15,
   "metadata": {},
   "outputs": [],
   "source": [
    "df_stack['score_cut']=df_stack['score_cut'].astype('str')\n",
    "#df_stack[df_stack['title'].str.contains('流浪地球')]\n",
    "df_stack.loc[[158405,158406,158407,158408,158409],['score_cut']]='EARTH(7.9)'\n",
    "df_stack['score_cut']=df_stack['score_cut'].astype('category')"
   ]
  },
  {
   "cell_type": "markdown",
   "metadata": {},
   "source": [
    "#### 3)绘图总体评分分布和流浪地球的评分分布：Earth为流浪地球的评分数量分布"
   ]
  },
  {
   "cell_type": "code",
   "execution_count": 16,
   "metadata": {},
   "outputs": [
    {
     "name": "stderr",
     "output_type": "stream",
     "text": [
      "C:\\Users\\Administrator\\Anaconda3\\lib\\site-packages\\scipy\\stats\\stats.py:1713: FutureWarning: Using a non-tuple sequence for multidimensional indexing is deprecated; use `arr[tuple(seq)]` instead of `arr[seq]`. In the future this will be interpreted as an array index, `arr[np.array(seq)]`, which will result either in an error or a different result.\n",
      "  return np.add.reduce(sorted[indexer] * weights, axis=axis) / sumval\n"
     ]
    },
    {
     "data": {
      "image/png": "[encoded data removed]",
      "text/plain": [
       "<Figure size 1152x648 with 1 Axes>"
      ]
     },
     "metadata": {},
     "output_type": "display_data"
    }
   ],
   "source": [
    "sns.set_style('white')\n",
    "#显示中文字体\n",
    "sns.set(font='simhei')\n",
    "fig,ax=plt.subplots(figsize=(16,9))\n",
    "sns.barplot(data=df_stack,x='score_cut',y='values',hue='score',\n",
    "           order=['(2,4]','(4,6]','(6,7.7]','(7.7,8.1]','EARTH(7.9)','(8.1,10]']\n",
    "           )\n",
    "#sns.barplot(data=df_earth,x='score_cut',y='values',hue='score',ax=ax[1])\n",
    "# Decoration\n",
    "plt.subplots_adjust(wspace=0)\n",
    "plt.title('流浪地球评分比例分布图',fontsize=20)\n",
    "plt.ylabel('评分数的各分段分布百分比',fontsize=15)\n",
    "plt.xlabel('分段')\n",
    "plt.show()"
   ]
  },
  {
   "cell_type": "markdown",
   "metadata": {},
   "source": [
    "#### 4)结论：可以明显看到相对同分段电影，流浪地球的评分比例在一星，二星，五星偏高，而四星明显偏低，三星差距不明显。"
   ]
  },
  {
   "cell_type": "markdown",
   "metadata": {},
   "source": [
    "# Q2:流浪地球的争议程度如何，给出不同评分的用户间的感受与争议点在哪。"
   ]
  },
  {
   "cell_type": "markdown",
   "metadata": {},
   "source": [
    "### 先查看两组数据:流浪地球的评论数和评分数"
   ]
  },
  {
   "cell_type": "code",
   "execution_count": 17,
   "metadata": {},
   "outputs": [
    {
     "data": {
      "text/html": [
       "<div>\n",
       "<style scoped>\n",
       "    .dataframe tbody tr th:only-of-type {\n",
       "        vertical-align: middle;\n",
       "    }\n",
       "\n",
       "    .dataframe tbody tr th {\n",
       "        vertical-align: top;\n",
       "    }\n",
       "\n",
       "    .dataframe thead th {\n",
       "        text-align: right;\n",
       "    }\n",
       "</style>\n",
       "<table border=\"1\" class=\"dataframe\">\n",
       "  <thead>\n",
       "    <tr style=\"text-align: right;\">\n",
       "      <th></th>\n",
       "      <th>votes</th>\n",
       "      <th>comments</th>\n",
       "    </tr>\n",
       "  </thead>\n",
       "  <tbody>\n",
       "    <tr>\n",
       "      <th>42087</th>\n",
       "      <td>1016428.0</td>\n",
       "      <td>473811.0</td>\n",
       "    </tr>\n",
       "  </tbody>\n",
       "</table>\n",
       "</div>"
      ],
      "text/plain": [
       "           votes  comments\n",
       "42087  1016428.0  473811.0"
      ]
     },
     "execution_count": 17,
     "metadata": {},
     "output_type": "execute_result"
    }
   ],
   "source": [
    "df[df['title'].str.contains('流浪地球')][['votes','comments']]"
   ]
  },
  {
   "cell_type": "code",
   "execution_count": 18,
   "metadata": {},
   "outputs": [
    {
     "name": "stdout",
     "output_type": "stream",
     "text": [
      "流浪地球的在全部电影中的评论数和评分数的百分位分别为100.0000%,99.9893%:\n"
     ]
    }
   ],
   "source": [
    "p_comments=stats.percentileofscore(df['comments'],473811.0)\n",
    "p_votes=stats.percentileofscore(df['votes'],1016428.0)\n",
    "print('流浪地球的在全部电影中的评论数和评分数的百分位分别为{:.4f}%,{:.4f}%:'.format(p_comments,p_votes))"
   ]
  },
  {
   "cell_type": "markdown",
   "metadata": {},
   "source": [
    "#### 从上面可以看到流浪地球的评论数和评分数都处于非常靠前的位置，但注意到评论数的百分位是要高于评分数的(实际上，流浪地球的评论数在豆瓣电影排在第一）"
   ]
  },
  {
   "cell_type": "markdown",
   "metadata": {},
   "source": [
    "### 为了评估豆瓣用户对流浪地球电影的争议程度，尝试引入一个比例参数:comvo，即电影在豆瓣的评论数比上评分数。理论上，一部电影的争议性越大，参与评论的人数比例也将越高。"
   ]
  },
  {
   "cell_type": "markdown",
   "metadata": {},
   "source": [
    "#### 新增列comvo:评论数与评分数之比"
   ]
  },
  {
   "cell_type": "code",
   "execution_count": 19,
   "metadata": {},
   "outputs": [],
   "source": [
    "df['comvo']=df['comments']/df['votes']"
   ]
  },
  {
   "cell_type": "markdown",
   "metadata": {},
   "source": [
    "#### 了解comvo:查看comvo的分布"
   ]
  },
  {
   "cell_type": "code",
   "execution_count": 20,
   "metadata": {},
   "outputs": [
    {
     "data": {
      "text/plain": [
       "<matplotlib.legend.Legend at 0x24ae6f980b8>"
      ]
     },
     "execution_count": 20,
     "metadata": {},
     "output_type": "execute_result"
    },
    {
     "data": {
      "image/png": "[encoded data removed]",
      "text/plain": [
       "<Figure size 1152x648 with 1 Axes>"
      ]
     },
     "metadata": {},
     "output_type": "display_data"
    }
   ],
   "source": [
    "fig,ax=plt.subplots(figsize=(16,9))\n",
    "sns.set(font='simhei')\n",
    "# distplot绘制hist和kde\n",
    "sns.distplot(df['comvo'],label='comvo')\n",
    "plt.title('comvo的分布图',fontsize=20)\n",
    "plt.legend()"
   ]
  },
  {
   "cell_type": "markdown",
   "metadata": {},
   "source": [
    "#### 可以看到分布呈现明显的正态分布，那么comvo是否能表示电影的争议性程度呢？\n",
    "\n",
    "#### 通过查看高comvo值的电影列表来佐证我们的想法:筛选出评论数大于30000，且comvo值在95分位数以上的电影列表"
   ]
  },
  {
   "cell_type": "code",
   "execution_count": 21,
   "metadata": {},
   "outputs": [
    {
     "data": {
      "text/html": [
       "<div>\n",
       "<style scoped>\n",
       "    .dataframe tbody tr th:only-of-type {\n",
       "        vertical-align: middle;\n",
       "    }\n",
       "\n",
       "    .dataframe tbody tr th {\n",
       "        vertical-align: top;\n",
       "    }\n",
       "\n",
       "    .dataframe thead th {\n",
       "        text-align: right;\n",
       "    }\n",
       "</style>\n",
       "<table border=\"1\" class=\"dataframe\">\n",
       "  <thead>\n",
       "    <tr style=\"text-align: right;\">\n",
       "      <th></th>\n",
       "      <th>title</th>\n",
       "      <th>ReleaseDate</th>\n",
       "      <th>country</th>\n",
       "      <th>score</th>\n",
       "      <th>comments</th>\n",
       "      <th>comvo</th>\n",
       "    </tr>\n",
       "  </thead>\n",
       "  <tbody>\n",
       "    <tr>\n",
       "      <th>42116</th>\n",
       "      <td>新喜剧之王</td>\n",
       "      <td>2019-02-05</td>\n",
       "      <td>中国/香港</td>\n",
       "      <td>5.8</td>\n",
       "      <td>78356.0</td>\n",
       "      <td>0.509219</td>\n",
       "    </tr>\n",
       "    <tr>\n",
       "      <th>36203</th>\n",
       "      <td>三生三世十里桃花</td>\n",
       "      <td>2017-08-03</td>\n",
       "      <td>中国</td>\n",
       "      <td>3.9</td>\n",
       "      <td>81930.0</td>\n",
       "      <td>0.494159</td>\n",
       "    </tr>\n",
       "    <tr>\n",
       "      <th>42087</th>\n",
       "      <td>流浪地球</td>\n",
       "      <td>2019-02-05</td>\n",
       "      <td>中国</td>\n",
       "      <td>7.9</td>\n",
       "      <td>473811.0</td>\n",
       "      <td>0.466153</td>\n",
       "    </tr>\n",
       "    <tr>\n",
       "      <th>36808</th>\n",
       "      <td>封神传奇</td>\n",
       "      <td>2016-07-29</td>\n",
       "      <td>香港/中国</td>\n",
       "      <td>2.9</td>\n",
       "      <td>21334.0</td>\n",
       "      <td>0.450922</td>\n",
       "    </tr>\n",
       "    <tr>\n",
       "      <th>42035</th>\n",
       "      <td>白蛇：缘起</td>\n",
       "      <td>2019-01-11</td>\n",
       "      <td>中国/美国</td>\n",
       "      <td>8.0</td>\n",
       "      <td>73401.0</td>\n",
       "      <td>0.440450</td>\n",
       "    </tr>\n",
       "    <tr>\n",
       "      <th>36698</th>\n",
       "      <td>长城 The Great Wall</td>\n",
       "      <td>2016-12-16</td>\n",
       "      <td>中国/美国</td>\n",
       "      <td>4.9</td>\n",
       "      <td>119111.0</td>\n",
       "      <td>0.434804</td>\n",
       "    </tr>\n",
       "    <tr>\n",
       "      <th>38909</th>\n",
       "      <td>西游伏妖篇</td>\n",
       "      <td>2017-01-28</td>\n",
       "      <td>中国/香港</td>\n",
       "      <td>5.5</td>\n",
       "      <td>117188.0</td>\n",
       "      <td>0.434006</td>\n",
       "    </tr>\n",
       "    <tr>\n",
       "      <th>38578</th>\n",
       "      <td>爵迹</td>\n",
       "      <td>2016-09-29</td>\n",
       "      <td>中国</td>\n",
       "      <td>3.8</td>\n",
       "      <td>46018.0</td>\n",
       "      <td>0.430509</td>\n",
       "    </tr>\n",
       "    <tr>\n",
       "      <th>48547</th>\n",
       "      <td>致青春·原来你还在这里</td>\n",
       "      <td>2016-07-08</td>\n",
       "      <td>中国</td>\n",
       "      <td>4.1</td>\n",
       "      <td>40213.0</td>\n",
       "      <td>0.418119</td>\n",
       "    </tr>\n",
       "    <tr>\n",
       "      <th>42085</th>\n",
       "      <td>阿丽塔：战斗天使 Alita: Battle Angel</td>\n",
       "      <td>2019-02-22</td>\n",
       "      <td>美国/加拿大/阿根廷</td>\n",
       "      <td>7.6</td>\n",
       "      <td>71303.0</td>\n",
       "      <td>0.415889</td>\n",
       "    </tr>\n",
       "    <tr>\n",
       "      <th>36039</th>\n",
       "      <td>摆渡人</td>\n",
       "      <td>2016-12-23</td>\n",
       "      <td>中国/香港</td>\n",
       "      <td>4.0</td>\n",
       "      <td>72670.0</td>\n",
       "      <td>0.411509</td>\n",
       "    </tr>\n",
       "    <tr>\n",
       "      <th>48711</th>\n",
       "      <td>摆渡人</td>\n",
       "      <td>2016-12-23</td>\n",
       "      <td>中国/香港</td>\n",
       "      <td>4.0</td>\n",
       "      <td>72675.0</td>\n",
       "      <td>0.411423</td>\n",
       "    </tr>\n",
       "  </tbody>\n",
       "</table>\n",
       "</div>"
      ],
      "text/plain": [
       "                              title ReleaseDate     country  score  comments  \\\n",
       "42116                         新喜剧之王  2019-02-05       中国/香港    5.8   78356.0   \n",
       "36203                      三生三世十里桃花  2017-08-03          中国    3.9   81930.0   \n",
       "42087                          流浪地球  2019-02-05          中国    7.9  473811.0   \n",
       "36808                          封神传奇  2016-07-29       香港/中国    2.9   21334.0   \n",
       "42035                         白蛇：缘起  2019-01-11       中国/美国    8.0   73401.0   \n",
       "36698             长城 The Great Wall  2016-12-16       中国/美国    4.9  119111.0   \n",
       "38909                         西游伏妖篇  2017-01-28       中国/香港    5.5  117188.0   \n",
       "38578                            爵迹  2016-09-29          中国    3.8   46018.0   \n",
       "48547                   致青春·原来你还在这里  2016-07-08          中国    4.1   40213.0   \n",
       "42085  阿丽塔：战斗天使 Alita: Battle Angel  2019-02-22  美国/加拿大/阿根廷    7.6   71303.0   \n",
       "36039                           摆渡人  2016-12-23       中国/香港    4.0   72670.0   \n",
       "48711                           摆渡人  2016-12-23       中国/香港    4.0   72675.0   \n",
       "\n",
       "          comvo  \n",
       "42116  0.509219  \n",
       "36203  0.494159  \n",
       "42087  0.466153  \n",
       "36808  0.450922  \n",
       "42035  0.440450  \n",
       "36698  0.434804  \n",
       "38909  0.434006  \n",
       "38578  0.430509  \n",
       "48547  0.418119  \n",
       "42085  0.415889  \n",
       "36039  0.411509  \n",
       "48711  0.411423  "
      ]
     },
     "execution_count": 21,
     "metadata": {},
     "output_type": "execute_result"
    }
   ],
   "source": [
    "df[(df['comvo']>stats.scoreatpercentile(df['comvo'],95))&(df['comments']>20000)][['title','ReleaseDate','country','score','comments','comvo']].sort_values('ReleaseDate').sort_values('comvo',ascending=False)"
   ]
  },
  {
   "cell_type": "markdown",
   "metadata": {},
   "source": [
    "#### 粗略查看清单，可以看到2019之前的电影电影主要以低分电影居多，并且绝大多大多低分电影都遭受过不少口水。\n",
    "#### 另外值得值得注意的是2019年春节前后竟然有4部电影出现在清单中（是不是流浪地球带来的流量提高了其它春节档电影的评论数啊2333)"
   ]
  },
  {
   "cell_type": "markdown",
   "metadata": {},
   "source": [
    "#### 流浪地球通过.describe()查看comvo的大概分布状况，对比流浪地球的comvo值"
   ]
  },
  {
   "cell_type": "code",
   "execution_count": 22,
   "metadata": {},
   "outputs": [
    {
     "name": "stdout",
     "output_type": "stream",
     "text": [
      "流浪地球的comvo值: 42087    0.466153\n",
      "Name: comvo, dtype: float64\n"
     ]
    }
   ],
   "source": [
    "index_of_earth=df[df['title'].str.contains('流浪地球')].index\n",
    "comvo_of_earth=df['comvo'][index_of_earth]\n",
    "print('流浪地球的comvo值:',comvo_of_earth)"
   ]
  },
  {
   "cell_type": "code",
   "execution_count": 23,
   "metadata": {},
   "outputs": [
    {
     "name": "stdout",
     "output_type": "stream",
     "text": [
      "流浪地球comvo值的百分位数:98.41252844331414\n"
     ]
    }
   ],
   "source": [
    "pencentile_of_earth=stats.percentileofscore(a=df['comvo'],score=0.466153)\n",
    "print('流浪地球comvo值的百分位数:{}'.format(pencentile_of_earth))"
   ]
  },
  {
   "cell_type": "markdown",
   "metadata": {},
   "source": [
    "#### 可以观察到，流浪地球的comvo比大于98.4%的电影.\n",
    "#### 下图绘制了评论数大于10万条电影的comments和comvo的散点图，能够更直观地看出流浪地球的争议程度"
   ]
  },
  {
   "cell_type": "code",
   "execution_count": 24,
   "metadata": {
    "scrolled": false
   },
   "outputs": [
    {
     "name": "stderr",
     "output_type": "stream",
     "text": [
      "C:\\Users\\Administrator\\Anaconda3\\lib\\site-packages\\ipykernel_launcher.py:8: UserWarning: Boolean Series key will be reindexed to match DataFrame index.\n",
      "  \n"
     ]
    },
    {
     "data": {
      "image/png": "[encoded data removed]",
      "text/plain": [
       "<Figure size 806.4x504 with 1 Axes>"
      ]
     },
     "metadata": {},
     "output_type": "display_data"
    }
   ],
   "source": [
    "#fig,ax=plt.subplots(figsize=(16,9))\n",
    "sns.set_style(\"dark\")\n",
    "sns.set(font=\"simhei\")\n",
    "df_10000=df[df['comments']>100000]\n",
    "snsobj=sns.lmplot(x=\"comments\", y=\"comvo\", data=df_10000,\n",
    "                     height=7, aspect=1.6, robust=True, palette='tab10',\n",
    "                     scatter_kws=dict(s=60, linewidths=.7, edgecolors='black'))\n",
    "snsobj=sns.scatterplot(x=\"comments\",y=\"comvo\",data=df_10000[df['title'].str.contains('流浪地球')])\n",
    "plt.text(480008,0.45,'流浪地球')\n",
    "plt.title('评论数大于10万的电影的comvo与comment散点图及回归线', fontsize=20)\n",
    "plt.savefig('comvo-comment.jpg',dpi=300,bbox_inches='tight',edgecolor='k')"
   ]
  },
  {
   "cell_type": "markdown",
   "metadata": {},
   "source": [
    "## 评论词频分析析"
   ]
  },
  {
   "cell_type": "markdown",
   "metadata": {},
   "source": [
    "### 读取爬虫数据并进行数据清洗"
   ]
  },
  {
   "cell_type": "code",
   "execution_count": 25,
   "metadata": {
    "scrolled": true
   },
   "outputs": [],
   "source": [
    "comments=pd.read_json('D:/Onedrive/DS/JUPYTER/SCRAPY/Spider/women/EarthComments20.json')\n",
    "comments_new=comments.applymap(lambda i:i[0])\n",
    "for index in range(1,20):\n",
    "    comments_subset=comments.applymap(lambda i:i[index])\n",
    "    comments_new=pd.concat([comments_new,comments_subset],ignore_index=True)"
   ]
  },
  {
   "cell_type": "code",
   "execution_count": 26,
   "metadata": {},
   "outputs": [
    {
     "data": {
      "text/html": [
       "<div>\n",
       "<style scoped>\n",
       "    .dataframe tbody tr th:only-of-type {\n",
       "        vertical-align: middle;\n",
       "    }\n",
       "\n",
       "    .dataframe tbody tr th {\n",
       "        vertical-align: top;\n",
       "    }\n",
       "\n",
       "    .dataframe thead th {\n",
       "        text-align: right;\n",
       "    }\n",
       "</style>\n",
       "<table border=\"1\" class=\"dataframe\">\n",
       "  <thead>\n",
       "    <tr style=\"text-align: right;\">\n",
       "      <th></th>\n",
       "      <th>commentDate</th>\n",
       "      <th>content</th>\n",
       "      <th>score</th>\n",
       "      <th>userID</th>\n",
       "      <th>userName</th>\n",
       "      <th>votes</th>\n",
       "    </tr>\n",
       "  </thead>\n",
       "  <tbody>\n",
       "    <tr>\n",
       "      <th>0</th>\n",
       "      <td>2019-01-28</td>\n",
       "      <td>还能更土更儿戏一点吗？毫无思考仅靠煽动，毫无敬畏仅余妄想。好的科幻片应该首先承认人类的无知，...</td>\n",
       "      <td>一星</td>\n",
       "      <td>https://www.douban.com/people/duduxiongzhifu/</td>\n",
       "      <td>嘟嘟熊之父 🧸</td>\n",
       "      <td>69436</td>\n",
       "    </tr>\n",
       "    <tr>\n",
       "      <th>1</th>\n",
       "      <td>2019-02-05</td>\n",
       "      <td>想看科幻的，可以散了。想看父子冰释前嫌的，赶紧去吧。</td>\n",
       "      <td>一星</td>\n",
       "      <td>https://www.douban.com/people/165473726/</td>\n",
       "      <td>寻～</td>\n",
       "      <td>2036</td>\n",
       "    </tr>\n",
       "  </tbody>\n",
       "</table>\n",
       "</div>"
      ],
      "text/plain": [
       "  commentDate                                            content score  \\\n",
       "0  2019-01-28  还能更土更儿戏一点吗？毫无思考仅靠煽动，毫无敬畏仅余妄想。好的科幻片应该首先承认人类的无知，...    一星   \n",
       "1  2019-02-05                         想看科幻的，可以散了。想看父子冰释前嫌的，赶紧去吧。    一星   \n",
       "\n",
       "                                          userID userName  votes  \n",
       "0  https://www.douban.com/people/duduxiongzhifu/  嘟嘟熊之父 🧸  69436  \n",
       "1       https://www.douban.com/people/165473726/       寻～   2036  "
      ]
     },
     "execution_count": 26,
     "metadata": {},
     "output_type": "execute_result"
    }
   ],
   "source": [
    "comments_new.drop_duplicates(subset=['userID'],inplace=True)\n",
    "comments_new['votes']=comments_new['votes'].astype('int')\n",
    "\n",
    "comments_new['commentDate']=comments_new['commentDate'].apply(lambda i:i.replace('\\n',''))\n",
    "comments_new['score']=comments_new['score'].map({'很差':'一星','较差':'二星','还行':'三星','推荐':'四星','力荐':'五星'})\n",
    "comments_new=comments_new.reset_index().drop('index',axis=1)\n",
    "comments_new['commentDate']=pd.to_datetime(comments_new['commentDate'])\n",
    "comments_new[:2]"
   ]
  },
  {
   "cell_type": "markdown",
   "metadata": {},
   "source": [
    "### 统计全部评论的词频"
   ]
  },
  {
   "cell_type": "code",
   "execution_count": 27,
   "metadata": {},
   "outputs": [],
   "source": [
    "import jieba\n",
    "from dateutil.parser import parse"
   ]
  },
  {
   "cell_type": "code",
   "execution_count": 28,
   "metadata": {},
   "outputs": [],
   "source": [
    "with open('seg.text','w',encoding='utf-8') as f:\n",
    "    for item in comments_new['content']:\n",
    "        f.write(item)"
   ]
  },
  {
   "cell_type": "code",
   "execution_count": 29,
   "metadata": {
    "scrolled": true
   },
   "outputs": [
    {
     "name": "stderr",
     "output_type": "stream",
     "text": [
      "Building prefix dict from the default dictionary ...\n",
      "Loading model from cache C:\\Users\\ADMINI~1\\AppData\\Local\\Temp\\jieba.cache\n",
      "Loading model cost 0.923 seconds.\n",
      "Prefix dict has been built succesfully.\n"
     ]
    }
   ],
   "source": [
    "with open(r'D:/Onedrive/DS/JUPYTER/test/seg.text','r',encoding='utf-8') as f:\n",
    "    list_seg=','.join(f)\n",
    "df_seg=pd.DataFrame(jieba.lcut(list_seg))\n",
    "df_seg.rename(columns={0:'wordsCount'},inplace=True)\n",
    "#筛选字长至少为2的词语\n",
    "df_seg['wordsCount']=df_seg[(df_seg['wordsCount'].str.len()>=2) & (df_seg['wordsCount']!='...')]\n",
    "df_seg.dropna(inplace=True)\n",
    "# 创建词频统计表\n",
    "seg_count=pd.DataFrame(df_seg['wordsCount'].value_counts())\n",
    "wordCountList=list(seg_count[seg_count['wordsCount']>20].index)"
   ]
  },
  {
   "cell_type": "code",
   "execution_count": 30,
   "metadata": {},
   "outputs": [
    {
     "name": "stdout",
     "output_type": "stream",
     "text": [
      "Index(['中国', '科幻', '电影', '地球', '特效', '没有', '一个', '还是', '可以', '流浪', '真的', '就是',\n",
      "       '不是', '煽情', '科幻片', '人类', '什么', '科幻电影', '最后', '人物', '故事', '台词', '这个',\n",
      "       '剧情', '好莱坞', '吴京', '但是', '国产', '问题', '我们', '尴尬', '这种', '这部', '一部', '设定',\n",
      "       '希望', '原著', '觉得', '看到', '宇宙', '拯救', '情感', '这样', '鼓励'],\n",
      "      dtype='object')\n"
     ]
    }
   ],
   "source": [
    "seg_count=pd.DataFrame(df_seg['wordsCount'].value_counts())\n",
    "print(seg_count[seg_count['wordsCount']>50].index)"
   ]
  },
  {
   "cell_type": "markdown",
   "metadata": {},
   "source": [
    "### 从高频词中筛选出情感明显的词语，并计算哑变量，进行one-hot转换"
   ]
  },
  {
   "cell_type": "code",
   "execution_count": 31,
   "metadata": {},
   "outputs": [],
   "source": [
    "#wordCountList=['中国','好莱坞','美国','科幻片','鼓励','特效','尴尬','煽情','科幻','国产','三星']"
   ]
  },
  {
   "cell_type": "code",
   "execution_count": 32,
   "metadata": {},
   "outputs": [
    {
     "data": {
      "text/html": [
       "<div>\n",
       "<style scoped>\n",
       "    .dataframe tbody tr th:only-of-type {\n",
       "        vertical-align: middle;\n",
       "    }\n",
       "\n",
       "    .dataframe tbody tr th {\n",
       "        vertical-align: top;\n",
       "    }\n",
       "\n",
       "    .dataframe thead th {\n",
       "        text-align: right;\n",
       "    }\n",
       "</style>\n",
       "<table border=\"1\" class=\"dataframe\">\n",
       "  <thead>\n",
       "    <tr style=\"text-align: right;\">\n",
       "      <th></th>\n",
       "      <th>中国</th>\n",
       "      <th>科幻</th>\n",
       "      <th>电影</th>\n",
       "      <th>地球</th>\n",
       "      <th>特效</th>\n",
       "      <th>没有</th>\n",
       "      <th>一个</th>\n",
       "      <th>还是</th>\n",
       "      <th>可以</th>\n",
       "      <th>流浪</th>\n",
       "      <th>...</th>\n",
       "      <th>结果</th>\n",
       "      <th>郭帆</th>\n",
       "      <th>文化</th>\n",
       "      <th>除了</th>\n",
       "      <th>那个</th>\n",
       "      <th>地下城</th>\n",
       "      <th>主角</th>\n",
       "      <th>出现</th>\n",
       "      <th>真是</th>\n",
       "      <th>任何</th>\n",
       "    </tr>\n",
       "  </thead>\n",
       "  <tbody>\n",
       "    <tr>\n",
       "      <th>0</th>\n",
       "      <td>0.0</td>\n",
       "      <td>0.0</td>\n",
       "      <td>0.0</td>\n",
       "      <td>0.0</td>\n",
       "      <td>0.0</td>\n",
       "      <td>0.0</td>\n",
       "      <td>0.0</td>\n",
       "      <td>0.0</td>\n",
       "      <td>0.0</td>\n",
       "      <td>0.0</td>\n",
       "      <td>...</td>\n",
       "      <td>0.0</td>\n",
       "      <td>0.0</td>\n",
       "      <td>0.0</td>\n",
       "      <td>0.0</td>\n",
       "      <td>0.0</td>\n",
       "      <td>0.0</td>\n",
       "      <td>0.0</td>\n",
       "      <td>0.0</td>\n",
       "      <td>0.0</td>\n",
       "      <td>0.0</td>\n",
       "    </tr>\n",
       "  </tbody>\n",
       "</table>\n",
       "<p>1 rows × 175 columns</p>\n",
       "</div>"
      ],
      "text/plain": [
       "    中国   科幻   电影   地球   特效   没有   一个   还是   可以   流浪 ...    结果   郭帆   文化   除了  \\\n",
       "0  0.0  0.0  0.0  0.0  0.0  0.0  0.0  0.0  0.0  0.0 ...   0.0  0.0  0.0  0.0   \n",
       "\n",
       "    那个  地下城   主角   出现   真是   任何  \n",
       "0  0.0  0.0  0.0  0.0  0.0  0.0  \n",
       "\n",
       "[1 rows x 175 columns]"
      ]
     },
     "execution_count": 32,
     "metadata": {},
     "output_type": "execute_result"
    }
   ],
   "source": [
    "def splitContent(content):\n",
    "    cutList=jieba.lcut(content)\n",
    "    cutListSplited=[]\n",
    "    for i in cutList:\n",
    "        if i in wordCountList:\n",
    "            cutListSplited.append(i)\n",
    "    return cutListSplited\n",
    "\n",
    "comments_new['wordSplit']=comments_new['content'].apply(splitContent)\n",
    "\n",
    "zero_matrix=np.zeros((len(comments_new),len(wordCountList)))\n",
    "dummies=pd.DataFrame(zero_matrix,columns=wordCountList)\n",
    "dummies[:1]"
   ]
  },
  {
   "cell_type": "code",
   "execution_count": 33,
   "metadata": {},
   "outputs": [],
   "source": [
    "for i,word in enumerate(comments_new.wordSplit):\n",
    "    indices=dummies.columns.get_indexer(word)\n",
    "    dummies.iloc[i,indices]=1\n",
    "\n",
    "comments_new=comments_new.join(dummies)\n",
    "comments_new[:1]"
   ]
  },
  {
   "cell_type": "markdown",
   "metadata": {},
   "source": [
    "#### 对comments_new按score分组后进行均值预算，以消除个各分段数量不同的影响"
   ]
  },
  {
   "cell_type": "code",
   "execution_count": 46,
   "metadata": {},
   "outputs": [],
   "source": [
    "comments_stack=comments_new.drop('votes',axis=1)\n",
    "comments_stack=comments_stack.groupby(['score']).mean()\n",
    "comments_stack=comments_stack.stack().reset_index().rename(columns={'level_1':'label',0:'value'})"
   ]
  },
  {
   "cell_type": "code",
   "execution_count": 47,
   "metadata": {
    "scrolled": false
   },
   "outputs": [
    {
     "data": {
      "text/plain": [
       "Text(0, 0.5, '单条评论的出现概率')"
      ]
     },
     "execution_count": 47,
     "metadata": {},
     "output_type": "execute_result"
    },
    {
     "data": {
      "image/png": "[encoded data removed]",
      "text/plain": [
       "<Figure size 1152x432 with 1 Axes>"
      ]
     },
     "metadata": {},
     "output_type": "display_data"
    }
   ],
   "source": [
    "fig,ax=plt.subplots(figsize=(16,6))\n",
    "sns.set(font='simhei')\n",
    "wordOrder=['中国','科幻','特效','煽情','尴尬','鼓励','国产','好莱坞','美国','三星']\n",
    "hue_order=['一星','二星','三星','四星','五星']\n",
    "sns.barplot(data=comments_stack,x='label',y='value',hue='score',\n",
    "            order=wordOrder,\n",
    "            ax=ax,ci=None,hue_order=hue_order)\n",
    "plt.title('各分段关键词的出现比例',fontsize=20)\n",
    "plt.xlabel('关键字',fontsize=15)\n",
    "plt.ylabel('单条评论的出现概率',fontsize=15)"
   ]
  },
  {
   "cell_type": "markdown",
   "metadata": {},
   "source": [
    "### 从图中可以了解到以下信息：\n",
    "- 5星评论中，几乎每两条评论就会有一条提到'中国'一词。\n",
    "- 结合总次数可以看出，虽然科幻次数最高，但五星评论中的'中国'占比依旧是全场最高。\n",
    "- \"尴尬\"在一到四星的单条评论中出现的概率都在0.1上下，但在五星评论里出现断崖式掉落。\n",
    "- \"特效\"在五星评分的评论中的出现概率也远低于其余分段的评论。\n",
    "- \"煽情\"的分布两端较低，三星出现概率最高。\n",
    "- 分值与出现概率成正相关的关键词有:“中国”“科幻”，“特效”。\n",
    "- \"三星\"是唯一的分值关键词，虽然处于三星的评分比例低于四星五星，至一点值得进一步分析。"
   ]
  },
  {
   "cell_type": "markdown",
   "metadata": {},
   "source": [
    "# 分析结论"
   ]
  },
  {
   "cell_type": "markdown",
   "metadata": {},
   "source": [
    "- 比较同分段(7.9分上下）,流浪地球的1星2星5星偏高，4星偏低。即流浪地球更容易得到一个极端评分。\n",
    "- 相对低分评论，高评分评论更在意流浪地球的“中国科幻”的属性，并且相对不关注情感相关的方面。\n",
    "- 观看过程中的\"尴尬\"可能是低分用户给出低分的一个重要原因。\n",
    "- 流浪地球的三星评论虽然占比低于同分段电影，但可能是信息量最大的，并且评论内容更大概率给出自己的评分理由。值得进一步分析。"
   ]
  },
  {
   "cell_type": "code",
   "execution_count": null,
   "metadata": {},
   "outputs": [],
   "source": []
  }
 ],
 "metadata": {
  "kernelspec": {
   "display_name": "Python 3",
   "language": "python",
   "name": "python3"
  },
  "language_info": {
   "codemirror_mode": {
    "name": "ipython",
    "version": 3
   },
   "file_extension": ".py",
   "mimetype": "text/x-python",
   "name": "python",
   "nbconvert_exporter": "python",
   "pygments_lexer": "ipython3",
   "version": "3.7.1"
  }
 },
 "nbformat": 4,
 "nbformat_minor": 2
}
